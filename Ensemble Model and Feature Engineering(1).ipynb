{
 "cells": [
  {
   "cell_type": "code",
   "execution_count": 141,
   "id": "e2aec5e0",
   "metadata": {},
   "outputs": [],
   "source": [
    "import numpy as np\n",
    "from sklearn.ensemble import RandomForestClassifier, VotingClassifier\n",
    "import pandas as pd\n",
    "from sklearn.preprocessing import StandardScaler\n",
    "from sklearn.model_selection import GridSearchCV\n",
    "from sklearn.metrics import confusion_matrix\n",
    "from sklearn.linear_model import LinearRegression\n",
    "from collections import Counter\n",
    "import random\n",
    "from sklearn.linear_model import LogisticRegression\n",
    "from sklearn.ensemble import GradientBoostingClassifier"
   ]
  },
  {
   "cell_type": "code",
   "execution_count": 7,
   "id": "5a321d42",
   "metadata": {},
   "outputs": [
    {
     "name": "stdout",
     "output_type": "stream",
     "text": [
      "The shape for the fashion_mnist_train is (60000, 785)\n",
      "The shape for the fashion_mnist_test is (10000, 785)\n"
     ]
    }
   ],
   "source": [
    "principal_axes = np.load('Principal components.npy')\n",
    "# The data contains 70,000 28 × 28 images (60,000 as training and 10,000 as testing)\n",
    "\n",
    "fashion_mnist_train = pd.read_csv('fashion-mnist_train.csv')\n",
    "print('The shape for the fashion_mnist_train is', fashion_mnist_train.shape)\n",
    "\n",
    "fashion_mnist_test = pd.read_csv('fashion-mnist_test.csv')\n",
    "print('The shape for the fashion_mnist_test is', fashion_mnist_test.shape)"
   ]
  },
  {
   "cell_type": "code",
   "execution_count": 8,
   "id": "29b77236",
   "metadata": {},
   "outputs": [
    {
     "name": "stdout",
     "output_type": "stream",
     "text": [
      "The shape for X, y are (60000, 784) and (60000,), respectively.\n"
     ]
    }
   ],
   "source": [
    "X, y = fashion_mnist_train[fashion_mnist_train.columns.values[1:]],\\\n",
    "fashion_mnist_train['label']\n",
    "print('The shape for X, y are {} and {}, respectively.'.format(X.shape, y.shape))\n",
    "\n",
    "# Standardize all the numerical features\n",
    "ss = StandardScaler()\n",
    "X_std = ss.fit_transform(X)\n",
    "X_std = pd.DataFrame(X_std, columns = X.columns)"
   ]
  },
  {
   "cell_type": "code",
   "execution_count": 9,
   "id": "db966cde",
   "metadata": {},
   "outputs": [],
   "source": [
    "X_test, y_test = fashion_mnist_test[fashion_mnist_train.columns.values[1:]],\\\n",
    "fashion_mnist_test['label']"
   ]
  },
  {
   "cell_type": "markdown",
   "id": "508cf71d",
   "metadata": {},
   "source": [
    "## Gradient Boosting"
   ]
  },
  {
   "cell_type": "code",
   "execution_count": 151,
   "id": "ad1fc8a3",
   "metadata": {},
   "outputs": [
    {
     "name": "stdout",
     "output_type": "stream",
     "text": [
      "The best parameters using 3-fold cv is {'max_depth': 10, 'n_estimators': 20}\n"
     ]
    }
   ],
   "source": [
    "# three-fold cross-validation using GridSearchCV\n",
    "grid = {'max_depth': [10, 20], 'n_estimators': [20, 30, 40]}\n",
    "clf = GradientBoostingClassifier(random_state = 0)\n",
    "grid_search = GridSearchCV(estimator = clf, \n",
    "                           param_grid = grid,\n",
    "                           cv = 3, \n",
    "                           scoring = 'accuracy')\n",
    "clf_cv = grid_search.fit(X_std @ principal_axes[:, :30], y)\n",
    "print('The best parameters using 3-fold cv is {}'.format(clf_cv.best_params_))"
   ]
  },
  {
   "cell_type": "code",
   "execution_count": 15,
   "id": "28b90c84",
   "metadata": {},
   "outputs": [
    {
     "data": {
      "text/plain": [
       "{'mean_fit_time': array([2.37495756, 3.58770728, 4.80095625, 3.50468032, 5.27307296,\n",
       "        7.04044763]),\n",
       " 'std_fit_time': array([0.01638441, 0.01432371, 0.01329186, 0.01085088, 0.02716352,\n",
       "        0.06343185]),\n",
       " 'mean_score_time': array([0.03805041, 0.05563021, 0.07337769, 0.06249968, 0.09274578,\n",
       "        0.12721411]),\n",
       " 'std_score_time': array([7.42177494e-04, 6.06622830e-04, 8.60115929e-05, 1.27124733e-03,\n",
       "        2.65854682e-03, 9.96187093e-03]),\n",
       " 'param_max_depth': masked_array(data=[10, 10, 10, 20, 20, 20],\n",
       "              mask=[False, False, False, False, False, False],\n",
       "        fill_value='?',\n",
       "             dtype=object),\n",
       " 'param_n_estimators': masked_array(data=[20, 30, 40, 20, 30, 40],\n",
       "              mask=[False, False, False, False, False, False],\n",
       "        fill_value='?',\n",
       "             dtype=object),\n",
       " 'params': [{'max_depth': 10, 'n_estimators': 20},\n",
       "  {'max_depth': 10, 'n_estimators': 30},\n",
       "  {'max_depth': 10, 'n_estimators': 40},\n",
       "  {'max_depth': 20, 'n_estimators': 20},\n",
       "  {'max_depth': 20, 'n_estimators': 30},\n",
       "  {'max_depth': 20, 'n_estimators': 40}],\n",
       " 'split0_test_score': array([0.75365, 0.75595, 0.75785, 0.77335, 0.78085, 0.7856 ]),\n",
       " 'split1_test_score': array([0.75155, 0.7562 , 0.75695, 0.774  , 0.7828 , 0.7861 ]),\n",
       " 'split2_test_score': array([0.7512 , 0.7568 , 0.75895, 0.7773 , 0.78165, 0.7841 ]),\n",
       " 'mean_test_score': array([0.75213333, 0.75631667, 0.75791667, 0.77488333, 0.78176667,\n",
       "        0.78526667]),\n",
       " 'std_test_score': array([0.00108192, 0.00035668, 0.00081786, 0.00172932, 0.00080035,\n",
       "        0.00084984]),\n",
       " 'rank_test_score': array([6, 5, 4, 3, 2, 1], dtype=int32)}"
      ]
     },
     "execution_count": 15,
     "metadata": {},
     "output_type": "execute_result"
    }
   ],
   "source": [
    "clf_cv.cv_results_"
   ]
  },
  {
   "cell_type": "code",
   "execution_count": 145,
   "id": "9d106d95",
   "metadata": {},
   "outputs": [
    {
     "data": {
      "text/html": [
       "<div>\n",
       "<style scoped>\n",
       "    .dataframe tbody tr th:only-of-type {\n",
       "        vertical-align: middle;\n",
       "    }\n",
       "\n",
       "    .dataframe tbody tr th {\n",
       "        vertical-align: top;\n",
       "    }\n",
       "\n",
       "    .dataframe thead th {\n",
       "        text-align: right;\n",
       "    }\n",
       "</style>\n",
       "<table border=\"1\" class=\"dataframe\">\n",
       "  <thead>\n",
       "    <tr style=\"text-align: right;\">\n",
       "      <th></th>\n",
       "      <th>0</th>\n",
       "      <th>1</th>\n",
       "      <th>2</th>\n",
       "      <th>3</th>\n",
       "      <th>4</th>\n",
       "      <th>5</th>\n",
       "      <th>6</th>\n",
       "      <th>7</th>\n",
       "      <th>8</th>\n",
       "      <th>9</th>\n",
       "    </tr>\n",
       "  </thead>\n",
       "  <tbody>\n",
       "    <tr>\n",
       "      <th>Correct Classification Rate</th>\n",
       "      <td>0.7249</td>\n",
       "      <td>0.9503</td>\n",
       "      <td>0.6929</td>\n",
       "      <td>0.8032</td>\n",
       "      <td>0.6994</td>\n",
       "      <td>0.8351</td>\n",
       "      <td>0.5362</td>\n",
       "      <td>0.8294</td>\n",
       "      <td>0.8851</td>\n",
       "      <td>0.8691</td>\n",
       "    </tr>\n",
       "  </tbody>\n",
       "</table>\n",
       "</div>"
      ],
      "text/plain": [
       "                                  0       1       2       3       4       5  \\\n",
       "Correct Classification Rate  0.7249  0.9503  0.6929  0.8032  0.6994  0.8351   \n",
       "\n",
       "                                  6       7       8       9  \n",
       "Correct Classification Rate  0.5362  0.8294  0.8851  0.8691  "
      ]
     },
     "execution_count": 145,
     "metadata": {},
     "output_type": "execute_result"
    }
   ],
   "source": [
    "clf_gb = GradientBoostingClassifier(max_depth = 10, n_estimators = 20).fit(X_std @ principal_axes[:, :30], y)\n",
    "y_pred_gb = clf_gb.predict(ss.fit_transform(X_test) @ principal_axes[:, :30])\n",
    "cm = confusion_matrix(y_test, y_pred_gb)\n",
    "correct_classification_rate = np.round(np.diagonal(cm) / np.sum(cm, axis = 0), 4)\n",
    "correct_classification_rate = pd.DataFrame(data = correct_classification_rate.reshape(1, -1),\n",
    "                                      columns = np.arange(0, 10), index = ['Correct Classification Rate'])\n",
    "correct_classification_rate"
   ]
  },
  {
   "cell_type": "code",
   "execution_count": 154,
   "id": "192fe3db",
   "metadata": {},
   "outputs": [
    {
     "name": "stdout",
     "output_type": "stream",
     "text": [
      "0.8416\n"
     ]
    }
   ],
   "source": [
    "overall_correct_classification_rate = np.round(np.sum(np.diagonal(cm)) / np.sum(cm), 4)\n",
    "overall_correct_classification_rate"
   ]
  },
  {
   "cell_type": "code",
   "execution_count": 147,
   "id": "a53d0b72",
   "metadata": {},
   "outputs": [],
   "source": [
    "y_bd = clf_bd.predict(X_std @ principal_axes[:, :30])"
   ]
  },
  {
   "cell_type": "code",
   "execution_count": 33,
   "id": "289e6be1",
   "metadata": {},
   "outputs": [],
   "source": [
    "y_knn = np.load('KNN_train.npy')\n",
    "y_dt = np.load('DT_train.npy')\n",
    "y_svm  = np.load('SVM_train.npy')"
   ]
  },
  {
   "cell_type": "code",
   "execution_count": 123,
   "id": "00d5d310",
   "metadata": {},
   "outputs": [
    {
     "data": {
      "text/plain": [
       "(60000, 4)"
      ]
     },
     "execution_count": 123,
     "metadata": {},
     "output_type": "execute_result"
    }
   ],
   "source": [
    "X_train = np.zeros((60000, 4))\n",
    "X_train[:, 0] = y_knn\n",
    "X_train[:, 1] = y_dt\n",
    "X_train[:, 2] = y_svm\n",
    "X_train[:, 3] = y_gb\n",
    "X_train.shape"
   ]
  },
  {
   "cell_type": "code",
   "execution_count": 35,
   "id": "3db93123",
   "metadata": {},
   "outputs": [],
   "source": [
    "y_pred_knn = np.load('KNN Prediction.npy')\n",
    "y_pred_dt = np.load('Decision Tree Prediction.npy')\n",
    "y_pred_svm  = np.load('Support Vector Machine Prediction.npy')"
   ]
  },
  {
   "cell_type": "code",
   "execution_count": 124,
   "id": "786ac479",
   "metadata": {},
   "outputs": [
    {
     "data": {
      "text/plain": [
       "(10000, 4)"
      ]
     },
     "execution_count": 124,
     "metadata": {},
     "output_type": "execute_result"
    }
   ],
   "source": [
    "X_test_ = np.zeros((10000, 4))\n",
    "X_test_[:, 0] = y_pred_knn\n",
    "X_test_[:, 1] = y_pred_dt\n",
    "X_test_[:, 2] = y_pred_svm\n",
    "X_test_[:, 3] = y_pred_gb\n",
    "X_test_.shape"
   ]
  },
  {
   "cell_type": "code",
   "execution_count": 90,
   "id": "21bb9e1e",
   "metadata": {},
   "outputs": [
    {
     "name": "stderr",
     "output_type": "stream",
     "text": [
      "/Users/yujingyang/opt/anaconda3/lib/python3.9/site-packages/sklearn/linear_model/_logistic.py:763: ConvergenceWarning: lbfgs failed to converge (status=1):\n",
      "STOP: TOTAL NO. of ITERATIONS REACHED LIMIT.\n",
      "\n",
      "Increase the number of iterations (max_iter) or scale the data as shown in:\n",
      "    https://scikit-learn.org/stable/modules/preprocessing.html\n",
      "Please also refer to the documentation for alternative solver options:\n",
      "    https://scikit-learn.org/stable/modules/linear_model.html#logistic-regression\n",
      "  n_iter_i = _check_optimize_result(\n"
     ]
    },
    {
     "data": {
      "text/plain": [
       "array([[ -3.46118181, -68.4537173 ,   9.47712779, -65.40124411],\n",
       "       [ -1.32373226, -13.71715318,   3.9543691 , -11.94875737],\n",
       "       [  1.01787578,  -4.16741627,   1.07561651,   1.91970973],\n",
       "       [  0.89594886,   5.34579655,  -1.51856856,   5.5052231 ],\n",
       "       [  0.67599711,   8.73653702,  -1.20049644,   6.7887306 ],\n",
       "       [  3.44524224,   7.47466298,  -1.72580339,  10.307729  ],\n",
       "       [ -1.31171263,  18.03846599,  -2.93538866,   9.2701789 ],\n",
       "       [  3.86014775,  11.49962223,  -1.97956106,  11.51652517],\n",
       "       [ -1.71723221,  16.86430748,  -2.6912022 ,  15.2694324 ],\n",
       "       [ -2.08135283,  18.37889449,  -2.45609311,  16.77247258]])"
      ]
     },
     "execution_count": 90,
     "metadata": {},
     "output_type": "execute_result"
    }
   ],
   "source": [
    "reg = LogisticRegression().fit(X_train, y)\n",
    "reg.coef_"
   ]
  },
  {
   "cell_type": "code",
   "execution_count": 157,
   "id": "92947c48",
   "metadata": {},
   "outputs": [
    {
     "data": {
      "text/html": [
       "<div>\n",
       "<style scoped>\n",
       "    .dataframe tbody tr th:only-of-type {\n",
       "        vertical-align: middle;\n",
       "    }\n",
       "\n",
       "    .dataframe tbody tr th {\n",
       "        vertical-align: top;\n",
       "    }\n",
       "\n",
       "    .dataframe thead th {\n",
       "        text-align: right;\n",
       "    }\n",
       "</style>\n",
       "<table border=\"1\" class=\"dataframe\">\n",
       "  <thead>\n",
       "    <tr style=\"text-align: right;\">\n",
       "      <th></th>\n",
       "      <th>0</th>\n",
       "      <th>1</th>\n",
       "      <th>2</th>\n",
       "      <th>3</th>\n",
       "      <th>4</th>\n",
       "      <th>5</th>\n",
       "      <th>6</th>\n",
       "      <th>7</th>\n",
       "      <th>8</th>\n",
       "      <th>9</th>\n",
       "    </tr>\n",
       "  </thead>\n",
       "  <tbody>\n",
       "    <tr>\n",
       "      <th>Correct Classification Rate</th>\n",
       "      <td>0.957079</td>\n",
       "      <td>0.994284</td>\n",
       "      <td>0.797997</td>\n",
       "      <td>0.887863</td>\n",
       "      <td>0.883063</td>\n",
       "      <td>0.865737</td>\n",
       "      <td>0.698785</td>\n",
       "      <td>0.942709</td>\n",
       "      <td>0.985546</td>\n",
       "      <td>0.996143</td>\n",
       "    </tr>\n",
       "  </tbody>\n",
       "</table>\n",
       "</div>"
      ],
      "text/plain": [
       "                                    0         1         2         3         4  \\\n",
       "Correct Classification Rate  0.957079  0.994284  0.797997  0.887863  0.883063   \n",
       "\n",
       "                                    5         6         7         8         9  \n",
       "Correct Classification Rate  0.865737  0.698785  0.942709  0.985546  0.996143  "
      ]
     },
     "execution_count": 157,
     "metadata": {},
     "output_type": "execute_result"
    }
   ],
   "source": [
    "y_pred_ensemble = reg.predict(X_test_)\n",
    "cm = confusion_matrix(y_test, y_pred_ensemble)\n",
    "correct_classification_rate = np.round(np.diagonal(cm) / np.sum(cm, axis = 0), 4)\n",
    "correct_classification_rate = pd.DataFrame(data = correct_classification_rate.reshape(1, -1),\n",
    "                                      columns = np.arange(0, 10), index = ['Correct Classification Rate'])\n",
    "correct_classification_rate"
   ]
  },
  {
   "cell_type": "code",
   "execution_count": 152,
   "id": "33cb557c",
   "metadata": {},
   "outputs": [
    {
     "name": "stdout",
     "output_type": "stream",
     "text": [
      "0.8843\n"
     ]
    }
   ],
   "source": [
    "overall_correct_classification_rate = np.round(np.sum(np.diagonal(cm)) / np.sum(cm), 4)\n",
    "overall_correct_classification_rate"
   ]
  },
  {
   "cell_type": "code",
   "execution_count": 161,
   "id": "00434cfd",
   "metadata": {},
   "outputs": [
    {
     "data": {
      "text/html": [
       "<div>\n",
       "<style scoped>\n",
       "    .dataframe tbody tr th:only-of-type {\n",
       "        vertical-align: middle;\n",
       "    }\n",
       "\n",
       "    .dataframe tbody tr th {\n",
       "        vertical-align: top;\n",
       "    }\n",
       "\n",
       "    .dataframe thead th {\n",
       "        text-align: right;\n",
       "    }\n",
       "</style>\n",
       "<table border=\"1\" class=\"dataframe\">\n",
       "  <thead>\n",
       "    <tr style=\"text-align: right;\">\n",
       "      <th></th>\n",
       "      <th>0</th>\n",
       "      <th>1</th>\n",
       "      <th>2</th>\n",
       "      <th>3</th>\n",
       "      <th>4</th>\n",
       "      <th>5</th>\n",
       "      <th>6</th>\n",
       "      <th>7</th>\n",
       "      <th>8</th>\n",
       "      <th>9</th>\n",
       "    </tr>\n",
       "  </thead>\n",
       "  <tbody>\n",
       "    <tr>\n",
       "      <th>Correct Classification Rate</th>\n",
       "      <td>0.839716</td>\n",
       "      <td>0.952371</td>\n",
       "      <td>0.842383</td>\n",
       "      <td>0.904299</td>\n",
       "      <td>0.835443</td>\n",
       "      <td>0.937855</td>\n",
       "      <td>0.785954</td>\n",
       "      <td>0.906044</td>\n",
       "      <td>0.939694</td>\n",
       "      <td>0.917601</td>\n",
       "    </tr>\n",
       "  </tbody>\n",
       "</table>\n",
       "</div>"
      ],
      "text/plain": [
       "                                    0         1         2         3         4  \\\n",
       "Correct Classification Rate  0.839716  0.952371  0.842383  0.904299  0.835443   \n",
       "\n",
       "                                    5         6         7         8         9  \n",
       "Correct Classification Rate  0.937855  0.785954  0.906044  0.939694  0.917601  "
      ]
     },
     "execution_count": 161,
     "metadata": {},
     "output_type": "execute_result"
    }
   ],
   "source": [
    "random.seed(1)\n",
    "for i in range(10000):\n",
    "    values = [y_pred_knn[i], y_pred_dt[i], y_pred_svm[i]]\n",
    "    count = dict(Counter(values))\n",
    "    mv = max(count.values())\n",
    "    y_pred_ensemble[i] = random.choice([k for (k, v) in count.items() if v == mv])\n",
    "cm = confusion_matrix(y_test, y_pred_ensemble)\n",
    "correct_classification_rate = np.round(np.diagonal(cm) / np.sum(cm, axis = 0), 4)\n",
    "correct_classification_rate = pd.DataFrame(data = correct_classification_rate.reshape(1, -1),\n",
    "                                      columns = np.arange(0, 10), index = ['Correct Classification Rate'])\n",
    "correct_classification_rate"
   ]
  },
  {
   "cell_type": "code",
   "execution_count": 153,
   "id": "15afc95f",
   "metadata": {},
   "outputs": [
    {
     "name": "stdout",
     "output_type": "stream",
     "text": [
      "0.8872\n"
     ]
    }
   ],
   "source": [
    "overall_correct_classification_rate = np.round(np.sum(np.diagonal(cm)) / np.sum(cm), 4)\n",
    "overall_correct_classification_rate"
   ]
  }
 ],
 "metadata": {
  "kernelspec": {
   "display_name": "Python 3 (ipykernel)",
   "language": "python",
   "name": "python3"
  },
  "language_info": {
   "codemirror_mode": {
    "name": "ipython",
    "version": 3
   },
   "file_extension": ".py",
   "mimetype": "text/x-python",
   "name": "python",
   "nbconvert_exporter": "python",
   "pygments_lexer": "ipython3",
   "version": "3.9.7"
  }
 },
 "nbformat": 4,
 "nbformat_minor": 5
}
