{
 "cells": [
  {
   "cell_type": "markdown",
   "id": "d589c442",
   "metadata": {},
   "source": [
    "# Multi-class Classification Model"
   ]
  },
  {
   "cell_type": "code",
   "execution_count": 57,
   "id": "84b39635",
   "metadata": {},
   "outputs": [],
   "source": [
    "import numpy as np\n",
    "import pandas as pd\n",
    "from sklearn.preprocessing import StandardScaler\n",
    "from sklearn.model_selection import GridSearchCV\n",
    "from sklearn.neighbors import KNeighborsClassifier\n",
    "from sklearn.discriminant_analysis import LinearDiscriminantAnalysis as LDA\n",
    "from sklearn.discriminant_analysis import QuadraticDiscriminantAnalysis as QDA\n",
    "from sklearn.metrics import confusion_matrix\n",
    "from sklearn.linear_model import LogisticRegression\n",
    "from sklearn.ensemble import AdaBoostClassifier\n",
    "from sklearn.kernel_ridge import KernelRidge\n",
    "import matplotlib.pyplot as plt\n",
    "from sklearn.tree import DecisionTreeClassifier\n",
    "from sklearn.svm import SVC\n",
    "from sklearn.model_selection import StratifiedKFold"
   ]
  },
  {
   "cell_type": "code",
   "execution_count": 58,
   "id": "b189c4f4",
   "metadata": {},
   "outputs": [
    {
     "name": "stdout",
     "output_type": "stream",
     "text": [
      "The shape for the fashion_mnist_train is (60000, 785)\n",
      "The shape for the fashion_mnist_test is (10000, 785)\n"
     ]
    }
   ],
   "source": [
    "# The data contains 70,000 28 × 28 images (60,000 as training and 10,000 as testing)\n",
    "\n",
    "fashion_mnist_train = pd.read_csv('fashion-mnist_train.csv')\n",
    "print('The shape for the fashion_mnist_train is', fashion_mnist_train.shape)\n",
    "\n",
    "fashion_mnist_test = pd.read_csv('fashion-mnist_test.csv')\n",
    "print('The shape for the fashion_mnist_test is', fashion_mnist_test.shape)"
   ]
  },
  {
   "cell_type": "code",
   "execution_count": 59,
   "id": "d0ae59ff",
   "metadata": {},
   "outputs": [
    {
     "name": "stdout",
     "output_type": "stream",
     "text": [
      "The shape for X, y are (60000, 784) and (60000,), respectively.\n"
     ]
    }
   ],
   "source": [
    "X, y = fashion_mnist_train[fashion_mnist_train.columns.values[1:]],\\\n",
    "fashion_mnist_train['label']\n",
    "print('The shape for X, y are {} and {}, respectively.'.format(X.shape, y.shape))\n",
    "\n",
    "# Standardize all the numerical features\n",
    "ss = StandardScaler()\n",
    "X_std = ss.fit_transform(X)\n",
    "X_std = pd.DataFrame(X_std, columns = X.columns)"
   ]
  },
  {
   "cell_type": "markdown",
   "id": "2338c541",
   "metadata": {},
   "source": [
    "## KNN"
   ]
  },
  {
   "cell_type": "code",
   "execution_count": 60,
   "id": "e263dfbb",
   "metadata": {},
   "outputs": [],
   "source": [
    "X_test, y_test = fashion_mnist_test[fashion_mnist_train.columns.values[1:]],\\\n",
    "fashion_mnist_test['label']"
   ]
  },
  {
   "cell_type": "code",
   "execution_count": 61,
   "id": "3e75d6f0",
   "metadata": {},
   "outputs": [],
   "source": [
    "# # three-fold cross-validation using GridSearchCV\n",
    "# grid = {'n_neighbors': [10, 20, 30, 40, 50]}\n",
    "# knn = KNeighborsClassifier()\n",
    "# grid_search = GridSearchCV(estimator = knn, \n",
    "#                            param_grid = grid,\n",
    "#                            cv = 3, \n",
    "#                            scoring = 'accuracy')\n",
    "# knn_cv = grid_search.fit(X_std, y)\n",
    "# print('The best parameters using 3-fold cv is {}'.format(knn_cv.best_params_))"
   ]
  },
  {
   "cell_type": "code",
   "execution_count": 62,
   "id": "6d5a4c80",
   "metadata": {},
   "outputs": [],
   "source": [
    "# # three-fold cross-validation using GridSearchCV\n",
    "# grid = {'n_neighbors': [1, 5, 10, 15]}\n",
    "# knn = KNeighborsClassifier()\n",
    "# grid_search = GridSearchCV(estimator = knn, \n",
    "#                            param_grid = grid,\n",
    "#                            cv = 3, \n",
    "#                            scoring = 'accuracy')\n",
    "# knn_cv = grid_search.fit(X_std, y)\n",
    "# print('The best parameters using 3-fold cv is {}'.format(knn_cv.best_params_))"
   ]
  },
  {
   "cell_type": "code",
   "execution_count": 63,
   "id": "bf1435ae",
   "metadata": {},
   "outputs": [
    {
     "name": "stdout",
     "output_type": "stream",
     "text": [
      "The best parameters using 3-fold cv is {'n_neighbors': 7}\n"
     ]
    }
   ],
   "source": [
    "# three-fold cross-validation using GridSearchCV\n",
    "grid = {'n_neighbors': [1, 3, 5, 7, 9]}\n",
    "knn = KNeighborsClassifier()\n",
    "grid_search = GridSearchCV(estimator = knn, \n",
    "                           param_grid = grid,\n",
    "                           cv = 3, \n",
    "                           scoring = 'accuracy')\n",
    "knn_cv = grid_search.fit(X_std, y)\n",
    "print('The best parameters using 3-fold cv is {}'.format(knn_cv.best_params_))"
   ]
  },
  {
   "cell_type": "code",
   "execution_count": 64,
   "id": "1b383648",
   "metadata": {},
   "outputs": [
    {
     "data": {
      "text/plain": [
       "{'mean_fit_time': array([0.32919987, 0.231685  , 0.23889605, 0.23066394, 0.25640774]),\n",
       " 'std_fit_time': array([0.12493753, 0.00559626, 0.00768034, 0.00458852, 0.01726862]),\n",
       " 'mean_score_time': array([22.45906464, 24.60276763, 33.16472356, 31.72917533, 32.58077168]),\n",
       " 'std_score_time': array([0.71559046, 0.23635442, 1.55107694, 0.53132565, 0.91980001]),\n",
       " 'param_n_neighbors': masked_array(data=[1, 3, 5, 7, 9],\n",
       "              mask=[False, False, False, False, False],\n",
       "        fill_value='?',\n",
       "             dtype=object),\n",
       " 'params': [{'n_neighbors': 1},\n",
       "  {'n_neighbors': 3},\n",
       "  {'n_neighbors': 5},\n",
       "  {'n_neighbors': 7},\n",
       "  {'n_neighbors': 9}],\n",
       " 'split0_test_score': array([0.84135, 0.85125, 0.8529 , 0.85255, 0.8495 ]),\n",
       " 'split1_test_score': array([0.84535, 0.8503 , 0.8513 , 0.8526 , 0.85145]),\n",
       " 'split2_test_score': array([0.84415, 0.8485 , 0.8474 , 0.8479 , 0.8469 ]),\n",
       " 'mean_test_score': array([0.84361667, 0.85001667, 0.85053333, 0.85101667, 0.84928333]),\n",
       " 'std_test_score': array([0.00167597, 0.00114042, 0.00230988, 0.00220391, 0.00186384]),\n",
       " 'rank_test_score': array([5, 3, 2, 1, 4], dtype=int32)}"
      ]
     },
     "execution_count": 64,
     "metadata": {},
     "output_type": "execute_result"
    }
   ],
   "source": [
    "knn_cv.cv_results_"
   ]
  },
  {
   "cell_type": "code",
   "execution_count": 66,
   "id": "8bf0c652",
   "metadata": {},
   "outputs": [
    {
     "data": {
      "text/html": [
       "<div>\n",
       "<style scoped>\n",
       "    .dataframe tbody tr th:only-of-type {\n",
       "        vertical-align: middle;\n",
       "    }\n",
       "\n",
       "    .dataframe tbody tr th {\n",
       "        vertical-align: top;\n",
       "    }\n",
       "\n",
       "    .dataframe thead th {\n",
       "        text-align: right;\n",
       "    }\n",
       "</style>\n",
       "<table border=\"1\" class=\"dataframe\">\n",
       "  <thead>\n",
       "    <tr style=\"text-align: right;\">\n",
       "      <th></th>\n",
       "      <th>0</th>\n",
       "      <th>1</th>\n",
       "      <th>2</th>\n",
       "      <th>3</th>\n",
       "      <th>4</th>\n",
       "      <th>5</th>\n",
       "      <th>6</th>\n",
       "      <th>7</th>\n",
       "      <th>8</th>\n",
       "      <th>9</th>\n",
       "    </tr>\n",
       "  </thead>\n",
       "  <tbody>\n",
       "    <tr>\n",
       "      <th>Correct Classification Rate</th>\n",
       "      <td>0.765</td>\n",
       "      <td>0.988</td>\n",
       "      <td>0.787</td>\n",
       "      <td>0.913</td>\n",
       "      <td>0.793</td>\n",
       "      <td>0.989</td>\n",
       "      <td>0.649</td>\n",
       "      <td>0.873</td>\n",
       "      <td>0.982</td>\n",
       "      <td>0.89</td>\n",
       "    </tr>\n",
       "  </tbody>\n",
       "</table>\n",
       "</div>"
      ],
      "text/plain": [
       "                                 0      1      2      3      4      5      6  \\\n",
       "Correct Classification Rate  0.765  0.988  0.787  0.913  0.793  0.989  0.649   \n",
       "\n",
       "                                 7      8     9  \n",
       "Correct Classification Rate  0.873  0.982  0.89  "
      ]
     },
     "execution_count": 66,
     "metadata": {},
     "output_type": "execute_result"
    }
   ],
   "source": [
    "neigh = KNeighborsClassifier(n_neighbors=7).fit(X_std, y)\n",
    "y_pred_knn = neigh.predict(ss.fit_transform(X_test))\n",
    "cm = confusion_matrix(y_test, y_pred_knn)\n",
    "correct_classification_rate = np.round(np.diagonal(cm) / np.sum(cm, axis = 0), 3)\n",
    "correct_classification_rate = pd.DataFrame(data = correct_classification_rate.reshape(1, -1),\n",
    "                                      columns = np.arange(0, 10), index = ['Correct Classification Rate'])\n",
    "correct_classification_rate"
   ]
  },
  {
   "cell_type": "code",
   "execution_count": 67,
   "id": "954102e9",
   "metadata": {},
   "outputs": [
    {
     "data": {
      "text/plain": [
       "0.8601"
      ]
     },
     "execution_count": 67,
     "metadata": {},
     "output_type": "execute_result"
    }
   ],
   "source": [
    "overall_correct_classification_rate = np.round(np.sum(np.diagonal(cm)) / np.sum(cm), 4)\n",
    "overall_correct_classification_rate"
   ]
  },
  {
   "cell_type": "code",
   "execution_count": 54,
   "id": "c1a8e1d6",
   "metadata": {},
   "outputs": [],
   "source": [
    "np.save('KNN Prediction', y_pred_knn)"
   ]
  },
  {
   "cell_type": "code",
   "execution_count": 7,
   "id": "066351ca",
   "metadata": {},
   "outputs": [],
   "source": [
    "principal_axes = np.load('Principal components.npy')"
   ]
  },
  {
   "cell_type": "markdown",
   "id": "f1489bad",
   "metadata": {},
   "source": [
    "## Decision Tree Classifier"
   ]
  },
  {
   "cell_type": "code",
   "execution_count": null,
   "id": "e268479b",
   "metadata": {},
   "outputs": [],
   "source": [
    "clf_dt = DecisionTreeClassifier().fit(X_std, y)\n",
    "clf_dt.max_features_"
   ]
  },
  {
   "cell_type": "code",
   "execution_count": 24,
   "id": "a196d543",
   "metadata": {},
   "outputs": [
    {
     "name": "stdout",
     "output_type": "stream",
     "text": [
      "The best parameters using 3-fold cv is {'max_depth': 500}\n"
     ]
    }
   ],
   "source": [
    "# three-fold cross-validation using GridSearchCV\n",
    "grid = {'max_depth': [100, 500]}\n",
    "clf = DecisionTreeClassifier()\n",
    "grid_search = GridSearchCV(estimator = clf, \n",
    "                           param_grid = grid,\n",
    "                           cv = 3, \n",
    "                           scoring = 'accuracy')\n",
    "clf_cv = grid_search.fit(X_std, y)\n",
    "print('The best parameters using 3-fold cv is {}'.format(clf_cv.best_params_))"
   ]
  },
  {
   "cell_type": "code",
   "execution_count": 25,
   "id": "3479be2c",
   "metadata": {},
   "outputs": [
    {
     "name": "stdout",
     "output_type": "stream",
     "text": [
      "The best parameters using 3-fold cv is {'max_depth': 500}\n"
     ]
    }
   ],
   "source": [
    "# three-fold cross-validation using GridSearchCV\n",
    "grid = {'max_depth': [300, 500]}\n",
    "clf = DecisionTreeClassifier()\n",
    "grid_search = GridSearchCV(estimator = clf, \n",
    "                           param_grid = grid,\n",
    "                           cv = 3, \n",
    "                           scoring = 'accuracy')\n",
    "clf_cv = grid_search.fit(X_std, y)\n",
    "print('The best parameters using 3-fold cv is {}'.format(clf_cv.best_params_))"
   ]
  },
  {
   "cell_type": "code",
   "execution_count": 26,
   "id": "5c52bf2a",
   "metadata": {},
   "outputs": [
    {
     "data": {
      "text/plain": [
       "{'mean_fit_time': array([18.6076978 , 18.14103293]),\n",
       " 'std_fit_time': array([0.46636694, 0.29448501]),\n",
       " 'mean_score_time': array([0.06970906, 0.05395508]),\n",
       " 'std_score_time': array([0.00188434, 0.00405395]),\n",
       " 'param_max_depth': masked_array(data=[300, 500],\n",
       "              mask=[False, False],\n",
       "        fill_value='?',\n",
       "             dtype=object),\n",
       " 'params': [{'max_depth': 300}, {'max_depth': 500}],\n",
       " 'split0_test_score': array([0.79525, 0.7954 ]),\n",
       " 'split1_test_score': array([0.7887, 0.7888]),\n",
       " 'split2_test_score': array([0.78735, 0.78875]),\n",
       " 'mean_test_score': array([0.79043333, 0.79098333]),\n",
       " 'std_test_score': array([0.0034502 , 0.00312312]),\n",
       " 'rank_test_score': array([2, 1], dtype=int32)}"
      ]
     },
     "execution_count": 26,
     "metadata": {},
     "output_type": "execute_result"
    }
   ],
   "source": [
    "clf_cv.cv_results_\n",
    "# There are no significant difference in validation performance between choices of max_depth = 300 and 500.\n",
    "# So for the simplicity of computation, we choose max_depth = 300 as out optimal hyperparameter"
   ]
  },
  {
   "cell_type": "code",
   "execution_count": 29,
   "id": "1fef47be",
   "metadata": {},
   "outputs": [
    {
     "data": {
      "text/html": [
       "<div>\n",
       "<style scoped>\n",
       "    .dataframe tbody tr th:only-of-type {\n",
       "        vertical-align: middle;\n",
       "    }\n",
       "\n",
       "    .dataframe tbody tr th {\n",
       "        vertical-align: top;\n",
       "    }\n",
       "\n",
       "    .dataframe thead th {\n",
       "        text-align: right;\n",
       "    }\n",
       "</style>\n",
       "<table border=\"1\" class=\"dataframe\">\n",
       "  <thead>\n",
       "    <tr style=\"text-align: right;\">\n",
       "      <th></th>\n",
       "      <th>0</th>\n",
       "      <th>1</th>\n",
       "      <th>2</th>\n",
       "      <th>3</th>\n",
       "      <th>4</th>\n",
       "      <th>5</th>\n",
       "      <th>6</th>\n",
       "      <th>7</th>\n",
       "      <th>8</th>\n",
       "      <th>9</th>\n",
       "    </tr>\n",
       "  </thead>\n",
       "  <tbody>\n",
       "    <tr>\n",
       "      <th>Correct Classification Rate</th>\n",
       "      <td>0.7442</td>\n",
       "      <td>0.9443</td>\n",
       "      <td>0.6862</td>\n",
       "      <td>0.8208</td>\n",
       "      <td>0.665</td>\n",
       "      <td>0.9043</td>\n",
       "      <td>0.5611</td>\n",
       "      <td>0.8449</td>\n",
       "      <td>0.9191</td>\n",
       "      <td>0.8859</td>\n",
       "    </tr>\n",
       "  </tbody>\n",
       "</table>\n",
       "</div>"
      ],
      "text/plain": [
       "                                  0       1       2       3      4       5  \\\n",
       "Correct Classification Rate  0.7442  0.9443  0.6862  0.8208  0.665  0.9043   \n",
       "\n",
       "                                  6       7       8       9  \n",
       "Correct Classification Rate  0.5611  0.8449  0.9191  0.8859  "
      ]
     },
     "execution_count": 29,
     "metadata": {},
     "output_type": "execute_result"
    }
   ],
   "source": [
    "clf_dt = DecisionTreeClassifier(max_depth = 300).fit(X_std, y)\n",
    "y_pred_dt = clf_dt.predict(ss.fit_transform(X_test))\n",
    "cm = confusion_matrix(y_test, y_pred_dt)\n",
    "correct_classification_rate = np.round(np.diagonal(cm) / np.sum(cm, axis = 0), 4)\n",
    "correct_classification_rate = pd.DataFrame(data = correct_classification_rate.reshape(1, -1),\n",
    "                                      columns = np.arange(0, 10), index = ['Correct Classification Rate'])\n",
    "correct_classification_rate"
   ]
  },
  {
   "cell_type": "code",
   "execution_count": 30,
   "id": "38d763e0",
   "metadata": {},
   "outputs": [
    {
     "data": {
      "text/plain": [
       "0.7967"
      ]
     },
     "execution_count": 30,
     "metadata": {},
     "output_type": "execute_result"
    }
   ],
   "source": [
    "overall_correct_classification_rate = np.round(np.sum(np.diagonal(cm)) / np.sum(cm), 4)\n",
    "overall_correct_classification_rate"
   ]
  },
  {
   "cell_type": "code",
   "execution_count": 55,
   "id": "9d293534",
   "metadata": {},
   "outputs": [],
   "source": [
    "np.save('Decision Tree Prediction', y_pred_dt)"
   ]
  },
  {
   "cell_type": "markdown",
   "id": "176dbd7a",
   "metadata": {},
   "source": [
    "## SVM"
   ]
  },
  {
   "cell_type": "code",
   "execution_count": 41,
   "id": "d46b3834",
   "metadata": {},
   "outputs": [
    {
     "name": "stdout",
     "output_type": "stream",
     "text": [
      "The best parameters using 3-fold cv is {'C': 0.1}\n",
      "The best parameters using 3-fold cv is {'kernel': poly}\n"
     ]
    }
   ],
   "source": [
    "svc = SVC(random_state = 123)\n",
    "regularization = [0.1, 0.5, 1, 5]\n",
    "kernel_type = ['linear', 'poly', 'rbf']\n",
    "\n",
    "# define grid search\n",
    "grid = dict(C = regularization, kernel = kernel_type, class_weight = class_weight)\n",
    "grid_search = GridSearchCV(estimator = svc, \n",
    "                           param_grid = grid, \n",
    "                           n_jobs = -1, \n",
    "                           cv = 3, \n",
    "                           scoring = 'accuracy', \n",
    "                           error_score = 0)\n",
    "svc_cv = grid_search.fit(X_std @ principal_axes[:, :10], y)\n",
    "print('The best parameters using 3-fold cv is {}'.format(svc_cv.best_params_))"
   ]
  },
  {
   "cell_type": "code",
   "execution_count": 49,
   "id": "66e507f5",
   "metadata": {},
   "outputs": [
    {
     "data": {
      "text/html": [
       "<div>\n",
       "<style scoped>\n",
       "    .dataframe tbody tr th:only-of-type {\n",
       "        vertical-align: middle;\n",
       "    }\n",
       "\n",
       "    .dataframe tbody tr th {\n",
       "        vertical-align: top;\n",
       "    }\n",
       "\n",
       "    .dataframe thead th {\n",
       "        text-align: right;\n",
       "    }\n",
       "</style>\n",
       "<table border=\"1\" class=\"dataframe\">\n",
       "  <thead>\n",
       "    <tr style=\"text-align: right;\">\n",
       "      <th></th>\n",
       "      <th>0</th>\n",
       "      <th>1</th>\n",
       "      <th>2</th>\n",
       "      <th>3</th>\n",
       "      <th>4</th>\n",
       "      <th>5</th>\n",
       "      <th>6</th>\n",
       "      <th>7</th>\n",
       "      <th>8</th>\n",
       "      <th>9</th>\n",
       "    </tr>\n",
       "  </thead>\n",
       "  <tbody>\n",
       "    <tr>\n",
       "      <th>Correct Classification Rate</th>\n",
       "      <td>0.7377</td>\n",
       "      <td>0.9602</td>\n",
       "      <td>0.7305</td>\n",
       "      <td>0.8275</td>\n",
       "      <td>0.7062</td>\n",
       "      <td>0.8644</td>\n",
       "      <td>0.6007</td>\n",
       "      <td>0.8522</td>\n",
       "      <td>0.9263</td>\n",
       "      <td>0.9053</td>\n",
       "    </tr>\n",
       "  </tbody>\n",
       "</table>\n",
       "</div>"
      ],
      "text/plain": [
       "                                  0       1       2       3       4       5  \\\n",
       "Correct Classification Rate  0.7377  0.9602  0.7305  0.8275  0.7062  0.8644   \n",
       "\n",
       "                                  6       7       8       9  \n",
       "Correct Classification Rate  0.6007  0.8522  0.9263  0.9053  "
      ]
     },
     "execution_count": 49,
     "metadata": {},
     "output_type": "execute_result"
    }
   ],
   "source": [
    "svc = SVC(random_state = 123).fit(X_std @ principal_axes[:, :30], y)\n",
    "y_pred_svm = svc.predict(ss.fit_transform(X_test) @ principal_axes[:, :30])\n",
    "cm = confusion_matrix(y_test, y_pred_svm)\n",
    "correct_classification_rate = np.round(np.diagonal(cm) / np.sum(cm, axis = 0), 4)\n",
    "correct_classification_rate = pd.DataFrame(data = correct_classification_rate.reshape(1, -1),\n",
    "                                      columns = np.arange(0, 10), index = ['Correct Classification Rate'])\n",
    "correct_classification_rate"
   ]
  },
  {
   "cell_type": "code",
   "execution_count": 50,
   "id": "eea63b35",
   "metadata": {},
   "outputs": [
    {
     "data": {
      "text/plain": [
       "0.8137"
      ]
     },
     "execution_count": 50,
     "metadata": {},
     "output_type": "execute_result"
    }
   ],
   "source": [
    "overall_correct_classification_rate = np.round(np.sum(np.diagonal(cm)) / np.sum(cm), 4)\n",
    "overall_correct_classification_rate"
   ]
  },
  {
   "cell_type": "code",
   "execution_count": 56,
   "id": "01a68430",
   "metadata": {},
   "outputs": [],
   "source": [
    "np.save('Support Vector Machine Prediction', y_pred_svm)"
   ]
  },
  {
   "cell_type": "markdown",
   "id": "8195de4d",
   "metadata": {},
   "source": [
    "## LDA"
   ]
  },
  {
   "cell_type": "code",
   "execution_count": 13,
   "id": "f4f9305a",
   "metadata": {},
   "outputs": [
    {
     "data": {
      "text/html": [
       "<div>\n",
       "<style scoped>\n",
       "    .dataframe tbody tr th:only-of-type {\n",
       "        vertical-align: middle;\n",
       "    }\n",
       "\n",
       "    .dataframe tbody tr th {\n",
       "        vertical-align: top;\n",
       "    }\n",
       "\n",
       "    .dataframe thead th {\n",
       "        text-align: right;\n",
       "    }\n",
       "</style>\n",
       "<table border=\"1\" class=\"dataframe\">\n",
       "  <thead>\n",
       "    <tr style=\"text-align: right;\">\n",
       "      <th></th>\n",
       "      <th>0</th>\n",
       "      <th>1</th>\n",
       "      <th>2</th>\n",
       "      <th>3</th>\n",
       "      <th>4</th>\n",
       "      <th>5</th>\n",
       "      <th>6</th>\n",
       "      <th>7</th>\n",
       "      <th>8</th>\n",
       "      <th>9</th>\n",
       "    </tr>\n",
       "  </thead>\n",
       "  <tbody>\n",
       "    <tr>\n",
       "      <th>Correct Classification Rate</th>\n",
       "      <td>0.8013</td>\n",
       "      <td>0.9958</td>\n",
       "      <td>0.7553</td>\n",
       "      <td>0.8233</td>\n",
       "      <td>0.7469</td>\n",
       "      <td>0.8616</td>\n",
       "      <td>0.581</td>\n",
       "      <td>0.8712</td>\n",
       "      <td>0.9376</td>\n",
       "      <td>0.9016</td>\n",
       "    </tr>\n",
       "  </tbody>\n",
       "</table>\n",
       "</div>"
      ],
      "text/plain": [
       "                                  0       1       2       3       4       5  \\\n",
       "Correct Classification Rate  0.8013  0.9958  0.7553  0.8233  0.7469  0.8616   \n",
       "\n",
       "                                 6       7       8       9  \n",
       "Correct Classification Rate  0.581  0.8712  0.9376  0.9016  "
      ]
     },
     "execution_count": 13,
     "metadata": {},
     "output_type": "execute_result"
    }
   ],
   "source": [
    "clf_LDA = LDA().fit(X_std @ principal_axes, y)\n",
    "y_pred_LDA = clf_LDA.predict(ss.fit_transform(X_test) @ principal_axes)\n",
    "cm = confusion_matrix(y_test, y_pred_LDA)\n",
    "correct_classification_rate = np.round(np.diagonal(cm) / np.sum(cm, axis = 0), 4)\n",
    "correct_classification_rate = pd.DataFrame(data = correct_classification_rate.reshape(1, -1),\n",
    "                                      columns = np.arange(0, 10), index = ['Correct Classification Rate'])\n",
    "correct_classification_rate"
   ]
  },
  {
   "cell_type": "code",
   "execution_count": 14,
   "id": "464fdc9a",
   "metadata": {},
   "outputs": [
    {
     "data": {
      "text/plain": [
       "0.8253"
      ]
     },
     "execution_count": 14,
     "metadata": {},
     "output_type": "execute_result"
    }
   ],
   "source": [
    "overall_correct_classification_rate = np.round(np.sum(np.diagonal(cm)) / np.sum(cm), 4)\n",
    "overall_correct_classification_rate"
   ]
  },
  {
   "cell_type": "code",
   "execution_count": 32,
   "id": "21a7753c",
   "metadata": {},
   "outputs": [
    {
     "data": {
      "image/png": "[encoded data removed]",
      "text/plain": [
       "<Figure size 576x432 with 1 Axes>"
      ]
     },
     "metadata": {
      "needs_background": "light"
     },
     "output_type": "display_data"
    }
   ],
   "source": [
    "linear_discriminants = clf_LDA.explained_variance_ratio_\n",
    "\n",
    "plt.figure(figsize = (8,6))\n",
    "cum_seperation = np.cumsum(linear_discriminants)\n",
    "plt.bar(range(1,10), linear_discriminants, alpha = 0.5, align = 'center',\n",
    "         label='individual explained discriminability')\n",
    "plt.step(range(1,10), cum_seperation, where='mid',\n",
    "        label='cumulative discriminability')\n",
    "plt.ylabel('Explained discriminability')\n",
    "plt.xlabel('Principal component index')\n",
    "plt.title(\"LDA for multiclasses\")\n",
    "plt.legend(loc='best')\n",
    "plt.show()"
   ]
  },
  {
   "cell_type": "markdown",
   "id": "54396889",
   "metadata": {},
   "source": [
    "## QDA"
   ]
  },
  {
   "cell_type": "code",
   "execution_count": 131,
   "id": "9323f2f7",
   "metadata": {},
   "outputs": [
    {
     "data": {
      "text/html": [
       "<div>\n",
       "<style scoped>\n",
       "    .dataframe tbody tr th:only-of-type {\n",
       "        vertical-align: middle;\n",
       "    }\n",
       "\n",
       "    .dataframe tbody tr th {\n",
       "        vertical-align: top;\n",
       "    }\n",
       "\n",
       "    .dataframe thead th {\n",
       "        text-align: right;\n",
       "    }\n",
       "</style>\n",
       "<table border=\"1\" class=\"dataframe\">\n",
       "  <thead>\n",
       "    <tr style=\"text-align: right;\">\n",
       "      <th></th>\n",
       "      <th>0</th>\n",
       "      <th>1</th>\n",
       "      <th>2</th>\n",
       "      <th>3</th>\n",
       "      <th>4</th>\n",
       "      <th>5</th>\n",
       "      <th>6</th>\n",
       "      <th>7</th>\n",
       "      <th>8</th>\n",
       "      <th>9</th>\n",
       "    </tr>\n",
       "  </thead>\n",
       "  <tbody>\n",
       "    <tr>\n",
       "      <th>Correct Classification Rate</th>\n",
       "      <td>0.7583</td>\n",
       "      <td>0.9235</td>\n",
       "      <td>0.8103</td>\n",
       "      <td>0.7266</td>\n",
       "      <td>0.5445</td>\n",
       "      <td>0.888</td>\n",
       "      <td>0.4043</td>\n",
       "      <td>0.5903</td>\n",
       "      <td>0.7967</td>\n",
       "      <td>0.9385</td>\n",
       "    </tr>\n",
       "  </tbody>\n",
       "</table>\n",
       "</div>"
      ],
      "text/plain": [
       "                                  0       1       2       3       4      5  \\\n",
       "Correct Classification Rate  0.7583  0.9235  0.8103  0.7266  0.5445  0.888   \n",
       "\n",
       "                                  6       7       8       9  \n",
       "Correct Classification Rate  0.4043  0.5903  0.7967  0.9385  "
      ]
     },
     "execution_count": 131,
     "metadata": {},
     "output_type": "execute_result"
    }
   ],
   "source": [
    "clf = QDA(reg_param = 1e-6).fit(X_std @ principal_axes[:, :200], y)\n",
    "y_pred_QDA = clf.predict(ss.fit_transform(X_test) @ principal_axes[:, :200])\n",
    "cm = confusion_matrix(y_test, y_pred_QDA)\n",
    "correct_classification_rate = np.round(np.diagonal(cm) / np.sum(cm, axis = 0), 4)\n",
    "correct_classification_rate = pd.DataFrame(data = correct_classification_rate.reshape(1, -1),\n",
    "                                      columns = np.arange(0, 10), index = ['Correct Classification Rate'])\n",
    "correct_classification_rate"
   ]
  },
  {
   "cell_type": "code",
   "execution_count": 109,
   "id": "0fc694ee",
   "metadata": {},
   "outputs": [
    {
     "data": {
      "text/plain": [
       "0.7248"
      ]
     },
     "execution_count": 109,
     "metadata": {},
     "output_type": "execute_result"
    }
   ],
   "source": [
    "overall_correct_classification_rate = np.round(np.sum(np.diagonal(cm)) / np.sum(cm), 4)\n",
    "overall_correct_classification_rate"
   ]
  },
  {
   "cell_type": "markdown",
   "id": "201d6801",
   "metadata": {},
   "source": [
    "## Logistics Regression"
   ]
  },
  {
   "cell_type": "code",
   "execution_count": 132,
   "id": "c87737cb",
   "metadata": {
    "scrolled": true
   },
   "outputs": [
    {
     "name": "stderr",
     "output_type": "stream",
     "text": [
      "/Users/yujingyang/opt/anaconda3/lib/python3.9/site-packages/sklearn/linear_model/_logistic.py:763: ConvergenceWarning: lbfgs failed to converge (status=1):\n",
      "STOP: TOTAL NO. of ITERATIONS REACHED LIMIT.\n",
      "\n",
      "Increase the number of iterations (max_iter) or scale the data as shown in:\n",
      "    https://scikit-learn.org/stable/modules/preprocessing.html\n",
      "Please also refer to the documentation for alternative solver options:\n",
      "    https://scikit-learn.org/stable/modules/linear_model.html#logistic-regression\n",
      "  n_iter_i = _check_optimize_result(\n"
     ]
    },
    {
     "data": {
      "text/html": [
       "<div>\n",
       "<style scoped>\n",
       "    .dataframe tbody tr th:only-of-type {\n",
       "        vertical-align: middle;\n",
       "    }\n",
       "\n",
       "    .dataframe tbody tr th {\n",
       "        vertical-align: top;\n",
       "    }\n",
       "\n",
       "    .dataframe thead th {\n",
       "        text-align: right;\n",
       "    }\n",
       "</style>\n",
       "<table border=\"1\" class=\"dataframe\">\n",
       "  <thead>\n",
       "    <tr style=\"text-align: right;\">\n",
       "      <th></th>\n",
       "      <th>0</th>\n",
       "      <th>1</th>\n",
       "      <th>2</th>\n",
       "      <th>3</th>\n",
       "      <th>4</th>\n",
       "      <th>5</th>\n",
       "      <th>6</th>\n",
       "      <th>7</th>\n",
       "      <th>8</th>\n",
       "      <th>9</th>\n",
       "    </tr>\n",
       "  </thead>\n",
       "  <tbody>\n",
       "    <tr>\n",
       "      <th>Correct Classification Rate</th>\n",
       "      <td>0.7826</td>\n",
       "      <td>0.9683</td>\n",
       "      <td>0.7748</td>\n",
       "      <td>0.8739</td>\n",
       "      <td>0.7782</td>\n",
       "      <td>0.9262</td>\n",
       "      <td>0.633</td>\n",
       "      <td>0.9034</td>\n",
       "      <td>0.9406</td>\n",
       "      <td>0.9232</td>\n",
       "    </tr>\n",
       "  </tbody>\n",
       "</table>\n",
       "</div>"
      ],
      "text/plain": [
       "                                  0       1       2       3       4       5  \\\n",
       "Correct Classification Rate  0.7826  0.9683  0.7748  0.8739  0.7782  0.9262   \n",
       "\n",
       "                                 6       7       8       9  \n",
       "Correct Classification Rate  0.633  0.9034  0.9406  0.9232  "
      ]
     },
     "execution_count": 132,
     "metadata": {},
     "output_type": "execute_result"
    }
   ],
   "source": [
    "clf = LogisticRegression(random_state=0, max_iter=100).fit(X_std @ principal_axes, y)\n",
    "y_pred_logit = clf.predict(ss.fit_transform(X_test) @ principal_axes)\n",
    "cm = confusion_matrix(y_test, y_pred_logit)\n",
    "correct_classification_rate = np.round(np.diagonal(cm) / np.sum(cm, axis = 0), 4)\n",
    "correct_classification_rate = pd.DataFrame(data = correct_classification_rate.reshape(1, -1),\n",
    "                                      columns = np.arange(0, 10), index = ['Correct Classification Rate'])\n",
    "correct_classification_rate"
   ]
  },
  {
   "cell_type": "code",
   "execution_count": 111,
   "id": "0bc8b39d",
   "metadata": {},
   "outputs": [
    {
     "data": {
      "text/plain": [
       "0.8515"
      ]
     },
     "execution_count": 111,
     "metadata": {},
     "output_type": "execute_result"
    }
   ],
   "source": [
    "overall_correct_classification_rate = np.round(np.sum(np.diagonal(cm)) / np.sum(cm), 4)\n",
    "overall_correct_classification_rate"
   ]
  },
  {
   "cell_type": "markdown",
   "id": "46982e74",
   "metadata": {},
   "source": [
    "## AdaBoosting"
   ]
  },
  {
   "cell_type": "code",
   "execution_count": 118,
   "id": "1600a655",
   "metadata": {},
   "outputs": [
    {
     "name": "stdout",
     "output_type": "stream",
     "text": [
      "The best parameters using 3-fold cv is {'n_estimators': 30}\n"
     ]
    }
   ],
   "source": [
    "# three-fold cross-validation using GridSearchCV\n",
    "grid = {'n_estimators': [30, 50, 70, 90, 120]}\n",
    "clf = AdaBoostClassifier(random_state=0)\n",
    "grid_search = GridSearchCV(estimator = clf, \n",
    "                           param_grid = grid,\n",
    "                           cv = 3, \n",
    "                           scoring = 'accuracy')\n",
    "clf_cv = grid_search.fit(X_std, y)\n",
    "print('The best parameters using 3-fold cv is {}'.format(clf_cv.best_params_))"
   ]
  },
  {
   "cell_type": "code",
   "execution_count": 119,
   "id": "541d94be",
   "metadata": {},
   "outputs": [
    {
     "name": "stdout",
     "output_type": "stream",
     "text": [
      "The best parameters using 3-fold cv is {'n_estimators': 30}\n"
     ]
    }
   ],
   "source": [
    "# three-fold cross-validation using GridSearchCV\n",
    "grid = {'n_estimators': [10, 20, 30, 40]}\n",
    "clf = AdaBoostClassifier(random_state=0)\n",
    "grid_search = GridSearchCV(estimator = clf, \n",
    "                           param_grid = grid,\n",
    "                           cv = 3, \n",
    "                           scoring = 'accuracy')\n",
    "clf_cv = grid_search.fit(X_std, y)\n",
    "print('The best parameters using 3-fold cv is {}'.format(clf_cv.best_params_))"
   ]
  },
  {
   "cell_type": "code",
   "execution_count": 120,
   "id": "e1be969b",
   "metadata": {},
   "outputs": [
    {
     "data": {
      "text/plain": [
       "{'mean_fit_time': array([ 8.06501778, 15.93393874, 23.96790202, 31.81279667]),\n",
       " 'std_fit_time': array([0.2021943 , 0.0382857 , 0.05851154, 0.08324994]),\n",
       " 'mean_score_time': array([0.14884456, 0.28197996, 0.42024136, 0.55077473]),\n",
       " 'std_score_time': array([0.0297393 , 0.02173477, 0.01210866, 0.03099474]),\n",
       " 'param_n_estimators': masked_array(data=[10, 20, 30, 40],\n",
       "              mask=[False, False, False, False],\n",
       "        fill_value='?',\n",
       "             dtype=object),\n",
       " 'params': [{'n_estimators': 10},\n",
       "  {'n_estimators': 20},\n",
       "  {'n_estimators': 30},\n",
       "  {'n_estimators': 40}],\n",
       " 'split0_test_score': array([0.4254 , 0.4881 , 0.54085, 0.5476 ]),\n",
       " 'split1_test_score': array([0.4993 , 0.52055, 0.5262 , 0.53245]),\n",
       " 'split2_test_score': array([0.38685, 0.47465, 0.51175, 0.4759 ]),\n",
       " 'mean_test_score': array([0.43718333, 0.49443333, 0.52626667, 0.51865   ]),\n",
       " 'std_test_score': array([0.04665752, 0.01926631, 0.01188012, 0.03085506]),\n",
       " 'rank_test_score': array([4, 3, 1, 2], dtype=int32)}"
      ]
     },
     "execution_count": 120,
     "metadata": {},
     "output_type": "execute_result"
    }
   ],
   "source": [
    "clf_cv.cv_results_"
   ]
  },
  {
   "cell_type": "code",
   "execution_count": 127,
   "id": "5e308907",
   "metadata": {},
   "outputs": [
    {
     "data": {
      "text/html": [
       "<div>\n",
       "<style scoped>\n",
       "    .dataframe tbody tr th:only-of-type {\n",
       "        vertical-align: middle;\n",
       "    }\n",
       "\n",
       "    .dataframe tbody tr th {\n",
       "        vertical-align: top;\n",
       "    }\n",
       "\n",
       "    .dataframe thead th {\n",
       "        text-align: right;\n",
       "    }\n",
       "</style>\n",
       "<table border=\"1\" class=\"dataframe\">\n",
       "  <thead>\n",
       "    <tr style=\"text-align: right;\">\n",
       "      <th></th>\n",
       "      <th>0</th>\n",
       "      <th>1</th>\n",
       "      <th>2</th>\n",
       "      <th>3</th>\n",
       "      <th>4</th>\n",
       "      <th>5</th>\n",
       "      <th>6</th>\n",
       "      <th>7</th>\n",
       "      <th>8</th>\n",
       "      <th>9</th>\n",
       "    </tr>\n",
       "  </thead>\n",
       "  <tbody>\n",
       "    <tr>\n",
       "      <th>Correct Classification Rate</th>\n",
       "      <td>0.5733</td>\n",
       "      <td>0.5757</td>\n",
       "      <td>0.4642</td>\n",
       "      <td>0.4624</td>\n",
       "      <td>0.3008</td>\n",
       "      <td>0.7534</td>\n",
       "      <td>0.2254</td>\n",
       "      <td>0.4535</td>\n",
       "      <td>0.8845</td>\n",
       "      <td>0.8785</td>\n",
       "    </tr>\n",
       "  </tbody>\n",
       "</table>\n",
       "</div>"
      ],
      "text/plain": [
       "                                  0       1       2       3       4       5  \\\n",
       "Correct Classification Rate  0.5733  0.5757  0.4642  0.4624  0.3008  0.7534   \n",
       "\n",
       "                                  6       7       8       9  \n",
       "Correct Classification Rate  0.2254  0.4535  0.8845  0.8785  "
      ]
     },
     "execution_count": 127,
     "metadata": {},
     "output_type": "execute_result"
    }
   ],
   "source": [
    "clf = AdaBoostClassifier(n_estimators=100, random_state=0).fit(X_std @ principal_axes, y)\n",
    "y_pred = clf.predict(ss.fit_transform(X_test) @ principal_axes)\n",
    "cm = confusion_matrix(y_test, y_pred)\n",
    "correct_classification_rate = np.round(np.diagonal(cm) / np.sum(cm, axis = 0), 4)\n",
    "correct_classification_rate = pd.DataFrame(data = correct_classification_rate.reshape(1, -1),\n",
    "                                      columns = np.arange(0, 10), index = ['Correct Classification Rate'])\n",
    "correct_classification_rate"
   ]
  },
  {
   "cell_type": "code",
   "execution_count": 128,
   "id": "e81cda75",
   "metadata": {},
   "outputs": [
    {
     "data": {
      "text/plain": [
       "0.5029"
      ]
     },
     "execution_count": 128,
     "metadata": {},
     "output_type": "execute_result"
    }
   ],
   "source": [
    "overall_correct_classification_rate = np.round(np.sum(np.diagonal(cm)) / np.sum(cm), 4)\n",
    "overall_correct_classification_rate"
   ]
  }
 ],
 "metadata": {
  "kernelspec": {
   "display_name": "Python 3 (ipykernel)",
   "language": "python",
   "name": "python3"
  },
  "language_info": {
   "codemirror_mode": {
    "name": "ipython",
    "version": 3
   },
   "file_extension": ".py",
   "mimetype": "text/x-python",
   "name": "python",
   "nbconvert_exporter": "python",
   "pygments_lexer": "ipython3",
   "version": "3.9.7"
  }
 },
 "nbformat": 4,
 "nbformat_minor": 5
}
